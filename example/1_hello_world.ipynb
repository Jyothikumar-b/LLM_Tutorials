{
 "cells": [
  {
   "cell_type": "markdown",
   "id": "0c5946d0",
   "metadata": {},
   "source": [
    "# Welcome!\n",
    "This is the first attempt to make application with LLM. \n",
    "\n",
    "Lets start building awesome solutions with LLM."
   ]
  },
  {
   "cell_type": "markdown",
   "id": "b9ef6512",
   "metadata": {},
   "source": [
    "Reference : https://docs.llamaindex.ai/en/stable/understanding/"
   ]
  },
  {
   "cell_type": "code",
   "execution_count": 1,
   "id": "d06be8a0",
   "metadata": {},
   "outputs": [],
   "source": [
    "from llama_index.llms.ollama import Ollama\n",
    "\n",
    "llm = Ollama(\n",
    "    model='mistral',\n",
    "    request_timeout=60\n",
    ")"
   ]
  },
  {
   "cell_type": "code",
   "execution_count": 2,
   "id": "8b395027",
   "metadata": {},
   "outputs": [
    {
     "name": "stdout",
     "output_type": "stream",
     "text": [
      " Struggle, filled with both joy and pain, moments of triumph and despair. It's a journey that shapes us, teaches us, and allows us to grow as individuals. Embrace it, cherish it, and make the most of every moment. After all, life is too precious not to live it beautifully!\n"
     ]
    }
   ],
   "source": [
    "response = llm.complete(\"Life is a beautiful\")\n",
    "print(response.text)"
   ]
  }
 ],
 "metadata": {
  "kernelspec": {
   "display_name": ".torch_env",
   "language": "python",
   "name": "python3"
  },
  "language_info": {
   "codemirror_mode": {
    "name": "ipython",
    "version": 3
   },
   "file_extension": ".py",
   "mimetype": "text/x-python",
   "name": "python",
   "nbconvert_exporter": "python",
   "pygments_lexer": "ipython3",
   "version": "3.11.0rc2"
  }
 },
 "nbformat": 4,
 "nbformat_minor": 5
}
