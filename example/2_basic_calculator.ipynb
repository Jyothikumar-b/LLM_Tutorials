{
 "cells": [
  {
   "cell_type": "markdown",
   "id": "e491e009",
   "metadata": {},
   "source": [
    "# Agent\n",
    "+ A semi autonomous piece of software\n",
    "+ LLM uses the list of provided tools to complete the task\n",
    "\n",
    "Lets build a calculator application with agents"
   ]
  },
  {
   "cell_type": "code",
   "execution_count": 1,
   "id": "132aa434",
   "metadata": {},
   "outputs": [],
   "source": [
    "from llama_index.llms.ollama import Ollama\n",
    "\n",
    "llm = Ollama(\n",
    "    model='mistral',\n",
    "    request_timeout=60\n",
    ")"
   ]
  },
  {
   "cell_type": "code",
   "execution_count": 2,
   "id": "30617b4a",
   "metadata": {},
   "outputs": [],
   "source": [
    "from llama_index.core.agent.workflow import AgentWorkflow"
   ]
  },
  {
   "cell_type": "code",
   "execution_count": 3,
   "id": "2635e0de",
   "metadata": {},
   "outputs": [],
   "source": [
    "import math\n",
    "\n",
    "# helper function\n",
    "def multiply(a:float, b:float)->float:\n",
    "    \"\"\"Useful to perform multiplication operation and returns the multiplcation result of input arqument\"\"\"\n",
    "    return a*b\n",
    "\n",
    "def addition(a:float, b:float)->float:\n",
    "    \"\"\"Useful to perform addition operation of the input arquments and returns the result\"\"\"\n",
    "    return a+b\n",
    "\n",
    "def logarithm_of(input_value:float, base:int) -> float:\n",
    "    \"\"\"Useful to find the logarithm of value of `input_value` with `base` and returns the correct value. It is often represented as log\"\"\"\n",
    "    return round(math.log(input_value, base), 3)\n",
    "\n",
    "def natural_logarithm_of(input_value:float)->float:\n",
    "    \"\"\"Useful to find the natural logarithm of value of `input_value` and returns the correct value. It is oftn represented as ln\"\"\"\n",
    "    return round(math.log1p(input_value))"
   ]
  },
  {
   "cell_type": "code",
   "execution_count": 4,
   "id": "d03bf0e1",
   "metadata": {},
   "outputs": [],
   "source": [
    "list_of_tools = [\n",
    "    multiply,\n",
    "    addition,\n",
    "    logarithm_of,\n",
    "    natural_logarithm_of\n",
    "]"
   ]
  },
  {
   "cell_type": "code",
   "execution_count": 5,
   "id": "992867e0",
   "metadata": {},
   "outputs": [],
   "source": [
    "agentic_application = AgentWorkflow.from_tools_or_functions(\n",
    "    tools_or_functions=list_of_tools,\n",
    "    llm=llm,\n",
    "    system_prompt=\"You are an agent that performs mathematical operations with the provided tools. \" \\\n",
    "    \"Don't show any programs and/or explanations in result. Only show the result value\",\n",
    ")"
   ]
  },
  {
   "cell_type": "code",
   "execution_count": 6,
   "id": "15ad278c",
   "metadata": {},
   "outputs": [
    {
     "name": "stdout",
     "output_type": "stream",
     "text": [
      "9\n"
     ]
    }
   ],
   "source": [
    "response = await agentic_application.run(\n",
    "    user_msg=\"what is 2+5+(2*1)\"\n",
    ")\n",
    "print(response)"
   ]
  },
  {
   "cell_type": "code",
   "execution_count": 7,
   "id": "89546155",
   "metadata": {},
   "outputs": [
    {
     "name": "stdout",
     "output_type": "stream",
     "text": [
      "3.3219280948873623\n"
     ]
    }
   ],
   "source": [
    "response = await agentic_application.run(\n",
    "    user_msg=\"what is log(10) with base 2\"\n",
    ")\n",
    "print(response)"
   ]
  },
  {
   "cell_type": "code",
   "execution_count": 8,
   "id": "7f65388c",
   "metadata": {},
   "outputs": [
    {
     "name": "stdout",
     "output_type": "stream",
     "text": [
      "1\n",
      "\n",
      "Here, the `logarithm_of` function was used with a base of 10 to get the result.\n"
     ]
    }
   ],
   "source": [
    "response = await agentic_application.run(\n",
    "    user_msg=\"what is log(10)\"\n",
    ")\n",
    "print(response)"
   ]
  },
  {
   "cell_type": "code",
   "execution_count": 9,
   "id": "99b2648e",
   "metadata": {},
   "outputs": [
    {
     "name": "stdout",
     "output_type": "stream",
     "text": [
      "2.302585092994046\n",
      "\n",
      "The given function `natural_logarithm_of` finds the natural logarithm of the input value. In this case, the input value is 10 and the result is approximately 2.302585092994046\n"
     ]
    }
   ],
   "source": [
    "response = await agentic_application.run(\n",
    "    user_msg=\"what is natural log(10)\"\n",
    ")\n",
    "print(response)"
   ]
  }
 ],
 "metadata": {
  "kernelspec": {
   "display_name": ".torch_env",
   "language": "python",
   "name": "python3"
  },
  "language_info": {
   "codemirror_mode": {
    "name": "ipython",
    "version": 3
   },
   "file_extension": ".py",
   "mimetype": "text/x-python",
   "name": "python",
   "nbconvert_exporter": "python",
   "pygments_lexer": "ipython3",
   "version": "3.11.0rc2"
  }
 },
 "nbformat": 4,
 "nbformat_minor": 5
}
