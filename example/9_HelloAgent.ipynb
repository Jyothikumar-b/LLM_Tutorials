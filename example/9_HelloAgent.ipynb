{
 "cells": [
  {
   "cell_type": "markdown",
   "id": "151044e5",
   "metadata": {},
   "source": [
    "# Creating functions"
   ]
  },
  {
   "cell_type": "code",
   "execution_count": 1,
   "id": "534c54a5",
   "metadata": {},
   "outputs": [],
   "source": [
    "def count_character(sentence:str)->int:\n",
    "    \"\"\"\n",
    "    To count the number of characters in the given sentence\n",
    "    \"\"\"\n",
    "    return len(sentence)\n",
    "\n",
    "def is_magic_number(input_number:float)->bool:\n",
    "    \"\"\"\n",
    "    Checks if the given number satisfy the condition for magic number\n",
    "    \"\"\"\n",
    "    return input_number>2"
   ]
  },
  {
   "cell_type": "markdown",
   "id": "1f57198d",
   "metadata": {},
   "source": [
    "# Define the model\n",
    "Note : Use only the model that supports tools"
   ]
  },
  {
   "cell_type": "code",
   "execution_count": 2,
   "id": "1fa21be6",
   "metadata": {},
   "outputs": [],
   "source": [
    "from llama_index.llms.ollama import Ollama\n",
    "\n",
    "llm = Ollama(\n",
    "    model=\"llama3.1\",\n",
    "    temperature=0.25\n",
    ")"
   ]
  },
  {
   "cell_type": "markdown",
   "id": "c74d471b",
   "metadata": {},
   "source": [
    "# Agent creation with tools"
   ]
  },
  {
   "cell_type": "code",
   "execution_count": 3,
   "id": "05e53f5e",
   "metadata": {},
   "outputs": [],
   "source": [
    "from llama_index.core.agent import ReActAgent\n",
    "from llama_index.core.tools import FunctionTool\n",
    "\n",
    "tool1 = FunctionTool.from_defaults(fn=count_character, name=\"count_character\", description=\"Provides the number of letters present in the given sentence\")\n",
    "tool2 = FunctionTool.from_defaults(fn=is_magic_number, name=\"is_magic_number\", description=\"Check whether the input number satisfy magic number\")\n",
    "\n",
    "agent  = ReActAgent.from_tools(\n",
    "    tools=[tool1, tool2],\n",
    "    llm=llm,\n",
    "    verbose=True\n",
    ")"
   ]
  },
  {
   "cell_type": "code",
   "execution_count": 4,
   "id": "597e23dd",
   "metadata": {},
   "outputs": [
    {
     "name": "stdout",
     "output_type": "stream",
     "text": [
      "> Running step 1b2678b2-d941-479e-a70b-3d209683cca1. Step input: is 452 magic number?\n",
      "\u001b[1;3;38;5;200mThought: The current language of the user is: English. I need to use a tool to help me answer the question.\n",
      "Action: is_magic_number\n",
      "Action Input: {'input_number': 452}\n",
      "\u001b[0m\u001b[1;3;34mObservation: True\n",
      "\u001b[0m> Running step 325cbf95-bfea-41aa-80f0-82b75d3bfb38. Step input: None\n",
      "\u001b[1;3;38;5;200mThought: Since the observation indicates that the number 452 satisfies the magic number condition, I can now provide an answer based on this information.\n",
      "Answer: Yes, 452 is a magic number.\n",
      "\u001b[0m"
     ]
    }
   ],
   "source": [
    "res = agent.query(\"is 452 magic number?\")"
   ]
  },
  {
   "cell_type": "code",
   "execution_count": 5,
   "id": "6788eda7",
   "metadata": {},
   "outputs": [
    {
     "data": {
      "text/plain": [
       "'Yes, 452 is a magic number.'"
      ]
     },
     "execution_count": 5,
     "metadata": {},
     "output_type": "execute_result"
    }
   ],
   "source": [
    "res.response"
   ]
  },
  {
   "cell_type": "code",
   "execution_count": null,
   "id": "77e939e2",
   "metadata": {},
   "outputs": [],
   "source": []
  }
 ],
 "metadata": {
  "kernelspec": {
   "display_name": ".torch_env",
   "language": "python",
   "name": "python3"
  },
  "language_info": {
   "codemirror_mode": {
    "name": "ipython",
    "version": 3
   },
   "file_extension": ".py",
   "mimetype": "text/x-python",
   "name": "python",
   "nbconvert_exporter": "python",
   "pygments_lexer": "ipython3",
   "version": "3.11.0rc2"
  }
 },
 "nbformat": 4,
 "nbformat_minor": 5
}
