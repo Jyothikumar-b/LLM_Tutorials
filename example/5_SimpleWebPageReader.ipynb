{
 "cells": [
  {
   "cell_type": "markdown",
   "id": "be1419be",
   "metadata": {},
   "source": [
    "# Reference:\n",
    "This is inspired from udemy course \"LlamaIndex Develop LLM powered apps\"\n",
    "\n",
    "# Modifications:\n",
    "* We use local llm & embedding model\n",
    "* Updated the source code as per llama-index version 0.12.19"
   ]
  },
  {
   "cell_type": "code",
   "execution_count": 1,
   "id": "c1d2df17",
   "metadata": {},
   "outputs": [],
   "source": [
    "# Local llm & embedding model\n",
    "from llama_index.llms.ollama import Ollama\n",
    "from llama_index.embeddings.ollama import OllamaEmbedding\n",
    "from llama_index.core import Settings\n",
    "\n",
    "local_llm = Ollama(\n",
    "    model=\"mistral\",\n",
    "    request_timeout=180\n",
    ")\n",
    "\n",
    "local_embeddings = OllamaEmbedding(\n",
    "    model_name=\"mxbai-embed-large\"\n",
    ")\n",
    "\n",
    "Settings._llm = local_llm\n",
    "Settings._embed_model = local_embeddings"
   ]
  },
  {
   "cell_type": "code",
   "execution_count": 2,
   "id": "631f8f4a",
   "metadata": {},
   "outputs": [],
   "source": [
    "from llama_index.readers.web import SimpleWebPageReader\n",
    "from llama_index.core.indices import VectorStoreIndex"
   ]
  },
  {
   "cell_type": "code",
   "execution_count": 3,
   "id": "338f2e9a",
   "metadata": {},
   "outputs": [],
   "source": [
    "web_page = \"https://en.wikipedia.org/wiki/Kumbakonam\""
   ]
  },
  {
   "cell_type": "code",
   "execution_count": 4,
   "id": "8fea1e2c",
   "metadata": {},
   "outputs": [],
   "source": [
    "docs = SimpleWebPageReader(html_to_text=True).load_data(urls=[web_page])\n",
    "\n",
    "index = VectorStoreIndex.from_documents(documents=docs)\n",
    "\n",
    "query_engine = index.as_query_engine(llm=local_llm)"
   ]
  },
  {
   "cell_type": "code",
   "execution_count": 5,
   "id": "f271b7c8",
   "metadata": {},
   "outputs": [
    {
     "name": "stdout",
     "output_type": "stream",
     "text": [
      " Kumbakonam is known for its brass, bronze, copper, and pewter vessels; silk and cotton cloths; rice production; betel leaves and nuts; silk weaving; metal works; handicraft development corporation in Swamimalai; and Kumbakonam Degree Coffee. It is also an important tourist destination due to its temples and the Mahamaham festival, which takes place once every 12 years. The town is also famous for being a center of European education and Hindu culture during the British Raj and acquiring the cultural name \"the Cambridge of South India.\"\n"
     ]
    }
   ],
   "source": [
    "response = query_engine.query(\"What is famous in kumbakonam?\")\n",
    "print(response)"
   ]
  },
  {
   "cell_type": "code",
   "execution_count": 6,
   "id": "9eeee571",
   "metadata": {},
   "outputs": [
    {
     "name": "stdout",
     "output_type": "stream",
     "text": [
      " In the provided context, there is no specific mention of a city named \"Dindigul.\" However, if we consider that Dindigul might be a typographical error or omission from the given context, it can be found among the second-grade municipalities. Therefore, without directly referencing the context, Dindigul could potentially be famous for being one of the cities in Tamil Nadu that has a Municipal Corporation, similar to other listed cities such as Tiruvannamalai and Vellore.\n",
      "\n",
      "However, it's essential to note that this answer is based on an assumption due to the absence of Dindigul from the given context. For a definitive answer about what's famous in Dindigul, additional information or research may be required.\n"
     ]
    }
   ],
   "source": [
    "response = query_engine.query(\"What is famous in Dindigul?\")\n",
    "print(response)"
   ]
  },
  {
   "cell_type": "code",
   "execution_count": null,
   "id": "823c9426",
   "metadata": {},
   "outputs": [],
   "source": []
  }
 ],
 "metadata": {
  "kernelspec": {
   "display_name": ".torch_env",
   "language": "python",
   "name": "python3"
  },
  "language_info": {
   "codemirror_mode": {
    "name": "ipython",
    "version": 3
   },
   "file_extension": ".py",
   "mimetype": "text/x-python",
   "name": "python",
   "nbconvert_exporter": "python",
   "pygments_lexer": "ipython3",
   "version": "3.11.0rc2"
  }
 },
 "nbformat": 4,
 "nbformat_minor": 5
}
